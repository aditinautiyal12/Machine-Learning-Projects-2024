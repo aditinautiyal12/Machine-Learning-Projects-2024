{
 "cells": [
  {
   "cell_type": "markdown",
   "metadata": {},
   "source": [
    "## Resolve errors related to unicode while reading csv file"
   ]
  },
  {
   "cell_type": "code",
   "execution_count": 2,
   "metadata": {},
   "outputs": [
    {
     "name": "stdout",
     "output_type": "stream",
     "text": [
      "Failed to read file with encoding: utf-8\n",
      "File read successfully with encoding: latin-1\n"
     ]
    }
   ],
   "source": [
    "import pandas as pd\n",
    "\n",
    "# Try different encodings\n",
    "encodings = ['utf-8', 'latin-1', 'ISO-8859-1']\n",
    "\n",
    "for encoding in encodings:\n",
    "    try:\n",
    "        df = pd.read_csv(r'C:\\Users\\91724\\Desktop\\Datasets\\new project\\spam.csv', encoding=encoding)\n",
    "        print(\"File read successfully with encoding:\", encoding)\n",
    "        break\n",
    "    except UnicodeDecodeError:\n",
    "        print(\"Failed to read file with encoding:\", encoding)\n",
    "\n",
    "# If none of the encodings work, inspect the file for other issues\n"
   ]
  },
  {
   "cell_type": "code",
   "execution_count": null,
   "metadata": {},
   "outputs": [],
   "source": []
  }
 ],
 "metadata": {
  "kernelspec": {
   "display_name": "Python 3",
   "language": "python",
   "name": "python3"
  },
  "language_info": {
   "codemirror_mode": {
    "name": "ipython",
    "version": 3
   },
   "file_extension": ".py",
   "mimetype": "text/x-python",
   "name": "python",
   "nbconvert_exporter": "python",
   "pygments_lexer": "ipython3",
   "version": "3.12.2"
  }
 },
 "nbformat": 4,
 "nbformat_minor": 2
}
